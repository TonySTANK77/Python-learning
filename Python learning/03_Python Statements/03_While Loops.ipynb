{
 "cells": [
  {
   "cell_type": "code",
   "execution_count": null,
   "id": "18987332",
   "metadata": {},
   "outputs": [],
   "source": [
    "x = 50\n",
    "\n",
    "while x < 5:\n",
    "    print(f\"The current value of x is {x}\")\n",
    "    x += 1\n",
    "else:\n",
    "    print(\"X is not less than 5.\")"
   ]
  },
  {
   "cell_type": "code",
   "execution_count": null,
   "id": "f87fabd6",
   "metadata": {},
   "outputs": [],
   "source": [
    "mystring = \"Sammy\""
   ]
  },
  {
   "cell_type": "code",
   "execution_count": null,
   "id": "978cf53b",
   "metadata": {},
   "outputs": [],
   "source": [
    "for letter in mystring:\n",
    "    if letter == \"a\":\n",
    "        break\n",
    "    print(letter)"
   ]
  },
  {
   "cell_type": "code",
   "execution_count": null,
   "id": "1e08e778",
   "metadata": {},
   "outputs": [],
   "source": [
    "x = 0\n",
    "\n",
    "while x < 5:\n",
    "    \n",
    "    if x==2:\n",
    "        break\n",
    "        \n",
    "    print(x)\n",
    "    x += 1 "
   ]
  },
  {
   "cell_type": "code",
   "execution_count": null,
   "id": "8803d269",
   "metadata": {},
   "outputs": [],
   "source": []
  }
 ],
 "metadata": {
  "kernelspec": {
   "display_name": "Python 3 (ipykernel)",
   "language": "python",
   "name": "python3"
  },
  "language_info": {
   "codemirror_mode": {
    "name": "ipython",
    "version": 3
   },
   "file_extension": ".py",
   "mimetype": "text/x-python",
   "name": "python",
   "nbconvert_exporter": "python",
   "pygments_lexer": "ipython3",
   "version": "3.11.5"
  }
 },
 "nbformat": 4,
 "nbformat_minor": 5
}
